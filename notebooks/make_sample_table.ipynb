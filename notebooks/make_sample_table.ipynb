{
 "cells": [
  {
   "cell_type": "code",
   "execution_count": 1,
   "id": "e6f94eb8-d167-4c2a-a78b-e1bd28a4a6d2",
   "metadata": {},
   "outputs": [],
   "source": [
    "import pandas as pd\n",
    "import numpy as np\n",
    "import os\n",
    "import sys\n",
    "import scanpy as sc\n",
    "\n",
    "\n",
    "import matplotlib.pyplot as plt\n",
    "import seaborn as sns\n",
    "import matplotlib.colors as mcolors\n",
    "from mpl_toolkits.axes_grid1.inset_locator import inset_axes"
   ]
  },
  {
   "cell_type": "code",
   "execution_count": 2,
   "id": "88dccf6b-b3d0-4804-abf1-6d239561bb84",
   "metadata": {},
   "outputs": [
    {
     "data": {
      "text/plain": [
       "AnnData object with n_obs × n_vars = 27346 × 58870\n",
       "    obs: 'organ_tissue', 'method', 'donor', 'anatomical_information', 'n_counts_UMIs', 'n_genes', 'cell_ontology_class', 'free_annotation', 'manually_annotated', 'compartment', 'gender', 'celltype', 'record_id', 'cell_id'\n",
       "    var: 'gene_symbol', 'feature_type', 'ensemblid', 'highly_variable', 'means', 'dispersions', 'dispersions_norm', 'mean', 'std'\n",
       "    uns: '_scvi', '_training_mode', 'dendrogram_cell_type_tissue', 'dendrogram_computational_compartment_assignment', 'dendrogram_consensus_prediction', 'dendrogram_tissue_cell_type', 'donor_colors', 'donor_method_colors', 'hvg', 'log1p', 'method_colors', 'neighbors', 'organ_tissue_colors', 'sex_colors', 'tissue_colors', 'umap'\n",
       "    obsm: 'X_pca', 'X_scvi', 'X_scvi_umap', 'X_umap'\n",
       "    layers: 'decontXcounts', 'raw_counts'\n",
       "    obsp: 'connectivities', 'distances'"
      ]
     },
     "execution_count": 2,
     "metadata": {},
     "output_type": "execute_result"
    }
   ],
   "source": [
    "fpath = \"/nfs/turbo/umms-indikar/shared/projects/adaptive_sampling/data/tabula_sapiens_filtered.h5ad\"\n",
    "pdf = sc.read_h5ad(fpath)\n",
    "pdf"
   ]
  },
  {
   "cell_type": "code",
   "execution_count": 3,
   "id": "40a0e4b9-e02e-40a3-8e4a-8b6c48d3f169",
   "metadata": {},
   "outputs": [
    {
     "name": "stdout",
     "output_type": "stream",
     "text": [
      "cdf.shape=(1609859020, 3)\n",
      "cdf.shape=(94783588, 4)\n"
     ]
    },
    {
     "data": {
      "text/html": [
       "<div>\n",
       "<style scoped>\n",
       "    .dataframe tbody tr th:only-of-type {\n",
       "        vertical-align: middle;\n",
       "    }\n",
       "\n",
       "    .dataframe tbody tr th {\n",
       "        vertical-align: top;\n",
       "    }\n",
       "\n",
       "    .dataframe thead th {\n",
       "        text-align: right;\n",
       "    }\n",
       "</style>\n",
       "<table border=\"1\" class=\"dataframe\">\n",
       "  <thead>\n",
       "    <tr style=\"text-align: right;\">\n",
       "      <th></th>\n",
       "      <th>cell_id</th>\n",
       "      <th>gene</th>\n",
       "      <th>value</th>\n",
       "      <th>prob</th>\n",
       "    </tr>\n",
       "  </thead>\n",
       "  <tbody>\n",
       "    <tr>\n",
       "      <th>0</th>\n",
       "      <td>HSC_7803</td>\n",
       "      <td>DDX11L1</td>\n",
       "      <td>3.0</td>\n",
       "      <td>2.218226e-09</td>\n",
       "    </tr>\n",
       "    <tr>\n",
       "      <th>1</th>\n",
       "      <td>HSC_7865</td>\n",
       "      <td>DDX11L1</td>\n",
       "      <td>1.0</td>\n",
       "      <td>7.394086e-10</td>\n",
       "    </tr>\n",
       "    <tr>\n",
       "      <th>2</th>\n",
       "      <td>HSC_7892</td>\n",
       "      <td>DDX11L1</td>\n",
       "      <td>2.0</td>\n",
       "      <td>1.478817e-09</td>\n",
       "    </tr>\n",
       "    <tr>\n",
       "      <th>3</th>\n",
       "      <td>HSC_7912</td>\n",
       "      <td>DDX11L1</td>\n",
       "      <td>17.0</td>\n",
       "      <td>1.256995e-08</td>\n",
       "    </tr>\n",
       "    <tr>\n",
       "      <th>4</th>\n",
       "      <td>FB_23149</td>\n",
       "      <td>DDX11L1</td>\n",
       "      <td>1.0</td>\n",
       "      <td>7.394086e-10</td>\n",
       "    </tr>\n",
       "  </tbody>\n",
       "</table>\n",
       "</div>"
      ],
      "text/plain": [
       "    cell_id     gene  value          prob\n",
       "0  HSC_7803  DDX11L1    3.0  2.218226e-09\n",
       "1  HSC_7865  DDX11L1    1.0  7.394086e-10\n",
       "2  HSC_7892  DDX11L1    2.0  1.478817e-09\n",
       "3  HSC_7912  DDX11L1   17.0  1.256995e-08\n",
       "4  FB_23149  DDX11L1    1.0  7.394086e-10"
      ]
     },
     "execution_count": 3,
     "metadata": {},
     "output_type": "execute_result"
    }
   ],
   "source": [
    "\"\"\" Build a tall data table'\"\"\"\n",
    "cdf = pdf.layers['raw_counts'].todense()\n",
    "cdf = pd.DataFrame(cdf, columns=pdf.var.index)\n",
    "cdf['cell_id'] = pdf.obs['cell_id'].to_list()\n",
    "\n",
    "cdf.head()\n",
    "cdf = pd.melt(cdf, id_vars='cell_id', var_name='gene')\n",
    "\n",
    "print(f\"{cdf.shape=}\")\n",
    "cdf = cdf[cdf['value'] > 0].reset_index(drop=True)\n",
    "cdf['prob'] = cdf['value'] / cdf['value'].sum()\n",
    "print(f\"{cdf.shape=}\")\n",
    "cdf.head()"
   ]
  },
  {
   "cell_type": "code",
   "execution_count": 4,
   "id": "5670ccf3-f8b7-4774-8826-774fb79759a4",
   "metadata": {},
   "outputs": [
    {
     "data": {
      "text/html": [
       "<div>\n",
       "<style scoped>\n",
       "    .dataframe tbody tr th:only-of-type {\n",
       "        vertical-align: middle;\n",
       "    }\n",
       "\n",
       "    .dataframe tbody tr th {\n",
       "        vertical-align: top;\n",
       "    }\n",
       "\n",
       "    .dataframe thead th {\n",
       "        text-align: right;\n",
       "    }\n",
       "</style>\n",
       "<table border=\"1\" class=\"dataframe\">\n",
       "  <thead>\n",
       "    <tr style=\"text-align: right;\">\n",
       "      <th></th>\n",
       "      <th>cell_id</th>\n",
       "      <th>gene</th>\n",
       "      <th>value</th>\n",
       "      <th>prob</th>\n",
       "    </tr>\n",
       "  </thead>\n",
       "  <tbody>\n",
       "    <tr>\n",
       "      <th>0</th>\n",
       "      <td>HSC_7803</td>\n",
       "      <td>DDX11L1</td>\n",
       "      <td>3.0</td>\n",
       "      <td>2.218226e-09</td>\n",
       "    </tr>\n",
       "    <tr>\n",
       "      <th>1</th>\n",
       "      <td>HSC_7865</td>\n",
       "      <td>DDX11L1</td>\n",
       "      <td>1.0</td>\n",
       "      <td>7.394086e-10</td>\n",
       "    </tr>\n",
       "    <tr>\n",
       "      <th>2</th>\n",
       "      <td>HSC_7892</td>\n",
       "      <td>DDX11L1</td>\n",
       "      <td>2.0</td>\n",
       "      <td>1.478817e-09</td>\n",
       "    </tr>\n",
       "    <tr>\n",
       "      <th>3</th>\n",
       "      <td>HSC_7912</td>\n",
       "      <td>DDX11L1</td>\n",
       "      <td>17.0</td>\n",
       "      <td>1.256995e-08</td>\n",
       "    </tr>\n",
       "    <tr>\n",
       "      <th>4</th>\n",
       "      <td>FB_23149</td>\n",
       "      <td>DDX11L1</td>\n",
       "      <td>1.0</td>\n",
       "      <td>7.394086e-10</td>\n",
       "    </tr>\n",
       "  </tbody>\n",
       "</table>\n",
       "</div>"
      ],
      "text/plain": [
       "    cell_id     gene  value          prob\n",
       "0  HSC_7803  DDX11L1    3.0  2.218226e-09\n",
       "1  HSC_7865  DDX11L1    1.0  7.394086e-10\n",
       "2  HSC_7892  DDX11L1    2.0  1.478817e-09\n",
       "3  HSC_7912  DDX11L1   17.0  1.256995e-08\n",
       "4  FB_23149  DDX11L1    1.0  7.394086e-10"
      ]
     },
     "execution_count": 4,
     "metadata": {},
     "output_type": "execute_result"
    }
   ],
   "source": [
    "outpath = \"/nfs/turbo/umms-indikar/shared/projects/adaptive_sampling/data/sample_table.parquet\"\n",
    "cdf.to_parquet(outpath, index=False)\n",
    "cdf.head()"
   ]
  },
  {
   "cell_type": "code",
   "execution_count": null,
   "id": "b948d848-eab8-4faa-85a0-d8f7cfd7ac4d",
   "metadata": {},
   "outputs": [],
   "source": []
  },
  {
   "cell_type": "code",
   "execution_count": null,
   "id": "6fe358b2-d223-4a1b-a92a-f9c1123c5984",
   "metadata": {},
   "outputs": [],
   "source": []
  },
  {
   "cell_type": "code",
   "execution_count": null,
   "id": "0eb26e93-e0ce-416d-b7e3-1b032d82caf6",
   "metadata": {},
   "outputs": [],
   "source": []
  },
  {
   "cell_type": "code",
   "execution_count": 5,
   "id": "e1549664-d1a3-426a-a692-b453c483a806",
   "metadata": {},
   "outputs": [
    {
     "ename": "SyntaxError",
     "evalue": "'break' outside loop (668683560.py, line 1)",
     "output_type": "error",
     "traceback": [
      "\u001b[0;36m  Cell \u001b[0;32mIn[5], line 1\u001b[0;36m\u001b[0m\n\u001b[0;31m    break\u001b[0m\n\u001b[0m    ^\u001b[0m\n\u001b[0;31mSyntaxError\u001b[0m\u001b[0;31m:\u001b[0m 'break' outside loop\n"
     ]
    }
   ],
   "source": [
    "break"
   ]
  },
  {
   "cell_type": "code",
   "execution_count": null,
   "id": "af8648f7-df95-430d-94de-44056869f691",
   "metadata": {},
   "outputs": [],
   "source": []
  }
 ],
 "metadata": {
  "kernelspec": {
   "display_name": "Python 3 (ipykernel)",
   "language": "python",
   "name": "python3"
  },
  "language_info": {
   "codemirror_mode": {
    "name": "ipython",
    "version": 3
   },
   "file_extension": ".py",
   "mimetype": "text/x-python",
   "name": "python",
   "nbconvert_exporter": "python",
   "pygments_lexer": "ipython3",
   "version": "3.9.7"
  }
 },
 "nbformat": 4,
 "nbformat_minor": 5
}
